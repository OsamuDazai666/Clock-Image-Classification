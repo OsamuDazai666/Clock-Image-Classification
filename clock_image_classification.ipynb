{
  "nbformat": 4,
  "nbformat_minor": 0,
  "metadata": {
    "colab": {
      "provenance": [],
      "gpuType": "T4",
      "authorship_tag": "ABX9TyNzgo/lk8p4XHiK18cwtOWi",
      "include_colab_link": true
    },
    "kernelspec": {
      "name": "python3",
      "display_name": "Python 3"
    },
    "language_info": {
      "name": "python"
    },
    "accelerator": "GPU"
  },
  "cells": [
    {
      "cell_type": "markdown",
      "metadata": {
        "id": "view-in-github",
        "colab_type": "text"
      },
      "source": [
        "<a href=\"https://colab.research.google.com/github/OsamuDazai666/Clock-Image-Classification/blob/main/clock_image_classification.ipynb\" target=\"_parent\"><img src=\"https://colab.research.google.com/assets/colab-badge.svg\" alt=\"Open In Colab\"/></a>"
      ]
    },
    {
      "cell_type": "markdown",
      "source": [
        "# Dataset Generation"
      ],
      "metadata": {
        "id": "dIrbXaeZeCsT"
      }
    },
    {
      "cell_type": "code",
      "source": [
        "!rm -rf train\n",
        "!rm -rf validation\n",
        "!rm -rf test"
      ],
      "metadata": {
        "id": "5iS-9gyFtjui"
      },
      "execution_count": null,
      "outputs": []
    },
    {
      "cell_type": "code",
      "source": [
        "!mkdir train\n",
        "!mkdir validation\n",
        "!mkdir test"
      ],
      "metadata": {
        "id": "fKlLe1DrttBv"
      },
      "execution_count": null,
      "outputs": []
    },
    {
      "cell_type": "code",
      "source": [
        "# future reminder: just run this block, don't change anything, this initializes the function to generate the dataset\n",
        "import os\n",
        "import math\n",
        "import random\n",
        "from PIL import Image, ImageDraw\n",
        "\n",
        "from PIL import ImageDraw\n",
        "def draw_clock_circle(size, num_hours, draw):\n",
        "    # Calculate the angle between each hour mark\n",
        "    angle_per_hour = 360 / num_hours\n",
        "\n",
        "    # Draw the circle with gaps representing the hours\n",
        "    center = (size // 2, size // 2)\n",
        "    radius = size // 2 - 10  # Leave some padding from the edges\n",
        "    for i in range(num_hours):\n",
        "        angle = math.radians(i * angle_per_hour - 90)  # Convert to radians and shift by -90 degrees\n",
        "        x1 = center[0] + radius * math.cos(angle)\n",
        "        y1 = center[1] + radius * math.sin(angle)\n",
        "        x2 = center[0] + (radius - 10) * math.cos(angle)\n",
        "        y2 = center[1] + (radius - 10) * math.sin(angle)\n",
        "        draw.line((x1, y1, x2, y2), fill='black', width=2)\n",
        "\n",
        "def get_points(origin, radius, separation_angle=30):\n",
        "    \"\"\"\n",
        "        orgin: cordinates of the origins,\n",
        "        radius: radius of the circle,\n",
        "        separation_angle: the separation angle (the angle by which to divide 360)\n",
        "    \"\"\"\n",
        "    cordinates = []\n",
        "    for i in range(0, 360 // separation_angle):\n",
        "        deg_angle = (separation_angle * (i + 1)) * (3.14 / 180) #\n",
        "        x = round(radius * math.cos(deg_angle))\n",
        "        y = round(radius * math.sin(deg_angle))\n",
        "        cordinates.append((origin[0] + x, origin[1] + y))\n",
        "\n",
        "    return cordinates\n",
        "\n",
        "\n",
        "def create_dataset(sample_size, images_per_folder, folder,\n",
        "                   seed, image_size, length_hours, length_minutes):\n",
        "    \"\"\"\n",
        "        The minutes_coordinates and hours_coordinates that we\n",
        "        receive from get points are labeled acoording to PIL library.\n",
        "        And Same goes for minutes and hours. Change it if you know\n",
        "        what you are doing.\n",
        "\n",
        "        sample_size: \"number of iteration to perform, value between 500-1000 work better\"\n",
        "        images_per_folder: \"number of images to generate per folder\"\n",
        "        folder: \"name of folder to generate images in\"\n",
        "        seed: \"random seed\"\n",
        "        image_size: \"image height and width both must be same\"\n",
        "        length_hours: \"length of hours hand\"\n",
        "        length_minutes: \"length of minutes hand\"\n",
        "    \"\"\"\n",
        "    random.seed(seed)\n",
        "    line_lenght = image_size // 2\n",
        "\n",
        "    # change if you know what you are doing\n",
        "    minutes = [\"20\", \"25\", \"30\", \"35\", \"40\", \"45\", \"50\", \"55\", \"00\", \"05\", \"10\", \"15\"]\n",
        "    hours = [\"04\", \"05\", \"06\", \"07\", \"08\", \"09\", \"10\", \"11\", \"12\", \"01\", \"02\", \"03\"]\n",
        "\n",
        "    minutes_cordinates = get_points((line_lenght, line_lenght), radius=length_minutes, separation_angle=30)\n",
        "    hours_cordinates = get_points((line_lenght, line_lenght), radius=length_hours, separation_angle=30)\n",
        "\n",
        "    SAMPLE_SIZE = sample_size\n",
        "    random_minutes = random.choices(minutes_cordinates, k=SAMPLE_SIZE)\n",
        "    random_hours = random.choices(hours_cordinates, k=SAMPLE_SIZE)\n",
        "\n",
        "    for i in range(SAMPLE_SIZE):\n",
        "        im = Image.new(\"RGB\", (image_size, image_size), color=\"white\")\n",
        "        draw = ImageDraw.Draw(im)\n",
        "\n",
        "        draw_clock_circle(size=image_size, num_hours=12, draw=draw) # draw the cirle\n",
        "        draw.line([(line_lenght, line_lenght), random_minutes[i]], fill=0, width=2) # draw minutes\n",
        "        draw.line([(line_lenght, line_lenght), random_hours[i]], fill=0, width=3) # draw hours\n",
        "\n",
        "        hour = hours[hours_cordinates.index(random_hours[i])]\n",
        "        minute = minutes[minutes_cordinates.index(random_minutes[i])]\n",
        "\n",
        "        directory_path = f\"{folder}/{hour}_{minute}\"\n",
        "\n",
        "        if not os.path.exists(directory_path):\n",
        "        # Create the directory\n",
        "            os.makedirs(directory_path)\n",
        "            for i in range(0, images_per_folder):\n",
        "                im.save(f\"{directory_path}/{i}.png\")\n",
        "        else:\n",
        "            print(\"Directory already exists:\", directory_path)"
      ],
      "metadata": {
        "id": "mMqYgBiweCSm"
      },
      "execution_count": null,
      "outputs": []
    },
    {
      "cell_type": "code",
      "source": [
        "# generating the data\n",
        "create_dataset(\n",
        "    sample_size=1000,\n",
        "    images_per_folder=10,\n",
        "    folder=\"train\",\n",
        "    seed=1,\n",
        "    image_size=400,\n",
        "    length_hours=100,\n",
        "    length_minutes=150\n",
        ")\n",
        "create_dataset(\n",
        "    sample_size=1000,\n",
        "    images_per_folder=5,\n",
        "    folder=\"validation\",\n",
        "    seed=1,\n",
        "    image_size=400,\n",
        "    length_hours=100,\n",
        "    length_minutes=150\n",
        ")\n",
        "create_dataset(\n",
        "    sample_size=1000,\n",
        "    images_per_folder=1,\n",
        "    folder=\"test\",\n",
        "    seed=1,\n",
        "    image_size=400,\n",
        "    length_hours=100,\n",
        "    length_minutes=150\n",
        ")"
      ],
      "metadata": {
        "id": "BCyCD6Y8vE_3"
      },
      "execution_count": null,
      "outputs": []
    },
    {
      "cell_type": "code",
      "source": [
        "import os\n",
        "time_list = os.listdir('train/')\n",
        "time_list.sort()\n",
        "time_list"
      ],
      "metadata": {
        "id": "6kPdIj0l7q5m"
      },
      "execution_count": null,
      "outputs": []
    },
    {
      "cell_type": "code",
      "source": [
        "import os\n",
        "len(os.listdir('validation/'))"
      ],
      "metadata": {
        "colab": {
          "base_uri": "https://localhost:8080/"
        },
        "id": "j54BkZ7DJKhd",
        "outputId": "38b3d8bf-3aa3-48eb-c277-8a8a2ff57456"
      },
      "execution_count": null,
      "outputs": [
        {
          "output_type": "execute_result",
          "data": {
            "text/plain": [
              "144"
            ]
          },
          "metadata": {},
          "execution_count": 6
        }
      ]
    },
    {
      "cell_type": "markdown",
      "source": [
        "# Preprocessing"
      ],
      "metadata": {
        "id": "RMcR0U38fmzJ"
      }
    },
    {
      "cell_type": "code",
      "source": [
        "import pathlib\n",
        "import tensorflow as tf\n",
        "\n",
        "path = pathlib.Path('train/')\n",
        "\n",
        "batch_size = 32\n",
        "img_height = 400\n",
        "img_width = 400\n",
        "\n",
        "train_ds = tf.keras.utils.image_dataset_from_directory(\n",
        "    path,\n",
        "    validation_split=0.2,\n",
        "    subset=\"training\",\n",
        "    seed=69,\n",
        "    image_size=(img_height, img_width),\n",
        "    batch_size=batch_size\n",
        ")\n",
        "\n",
        "validation_ds = tf.keras.utils.image_dataset_from_directory(\n",
        "    path,\n",
        "    validation_split=0.1,\n",
        "    subset=\"validation\",\n",
        "    seed=69,\n",
        "    image_size=(img_height, img_width),\n",
        "    batch_size=batch_size\n",
        ")"
      ],
      "metadata": {
        "id": "bnC1VsWufBOg",
        "colab": {
          "base_uri": "https://localhost:8080/"
        },
        "outputId": "b56b0e69-53ac-4bb3-d224-6190d9b4e85b"
      },
      "execution_count": null,
      "outputs": [
        {
          "output_type": "stream",
          "name": "stdout",
          "text": [
            "Found 1440 files belonging to 144 classes.\n",
            "Using 1152 files for training.\n",
            "Found 1440 files belonging to 144 classes.\n",
            "Using 144 files for validation.\n"
          ]
        }
      ]
    },
    {
      "cell_type": "code",
      "source": [
        "for image_batch, labels_batch in train_ds:\n",
        "  print(image_batch.shape)\n",
        "  print(labels_batch.shape)\n",
        "  break"
      ],
      "metadata": {
        "colab": {
          "base_uri": "https://localhost:8080/"
        },
        "id": "zc0-j8pMxkUK",
        "outputId": "b6d1968a-e3be-484c-8df4-79d97e307680"
      },
      "execution_count": null,
      "outputs": [
        {
          "output_type": "stream",
          "name": "stdout",
          "text": [
            "(32, 400, 400, 3)\n",
            "(32,)\n"
          ]
        }
      ]
    },
    {
      "cell_type": "markdown",
      "source": [
        "# Model"
      ],
      "metadata": {
        "id": "Dn_fEFsXfgvY"
      }
    },
    {
      "cell_type": "code",
      "execution_count": null,
      "metadata": {
        "id": "Yj-U98oba2wD"
      },
      "outputs": [],
      "source": [
        "from tensorflow import keras\n",
        "from tensorflow.keras import layers\n",
        "\n",
        "inputs = keras.Input(shape=(400, 400, 3))\n",
        "x = layers.Rescaling(1./255)(inputs) # normalizing layer\n",
        "x = layers.Conv2D(filters=32, kernel_size=3, activation=\"relu\")(x)\n",
        "x = layers.MaxPooling2D(pool_size=2)(x)\n",
        "x = layers.Conv2D(filters=64, kernel_size=3, activation=\"relu\")(x)\n",
        "x = layers.MaxPooling2D(pool_size=2)(x)\n",
        "x = layers.Conv2D(filters=128, kernel_size=3, activation=\"relu\")(x)\n",
        "x = layers.MaxPooling2D(pool_size=2)(x)\n",
        "x = layers.Conv2D(filters=256, kernel_size=3, activation=\"relu\")(x)\n",
        "x = layers.MaxPooling2D(pool_size=2)(x)\n",
        "x = layers.Conv2D(filters=256, kernel_size=3, activation=\"relu\")(x)\n",
        "x = layers.Flatten()(x)\n",
        "outputs = layers.Dense(144, activation=\"softmax\")(x)\n",
        "\n",
        "model = keras.Model(inputs=inputs, outputs=outputs)"
      ]
    },
    {
      "cell_type": "code",
      "source": [
        "model.summary()"
      ],
      "metadata": {
        "colab": {
          "base_uri": "https://localhost:8080/"
        },
        "id": "0X0p1Lv8dxIS",
        "outputId": "9463a36f-688c-4ac9-829c-7f88f83b26cf"
      },
      "execution_count": null,
      "outputs": [
        {
          "output_type": "stream",
          "name": "stdout",
          "text": [
            "Model: \"model\"\n",
            "_________________________________________________________________\n",
            " Layer (type)                Output Shape              Param #   \n",
            "=================================================================\n",
            " input_1 (InputLayer)        [(None, 400, 400, 3)]     0         \n",
            "                                                                 \n",
            " rescaling (Rescaling)       (None, 400, 400, 3)       0         \n",
            "                                                                 \n",
            " conv2d (Conv2D)             (None, 398, 398, 32)      896       \n",
            "                                                                 \n",
            " max_pooling2d (MaxPooling2  (None, 199, 199, 32)      0         \n",
            " D)                                                              \n",
            "                                                                 \n",
            " conv2d_1 (Conv2D)           (None, 197, 197, 64)      18496     \n",
            "                                                                 \n",
            " max_pooling2d_1 (MaxPoolin  (None, 98, 98, 64)        0         \n",
            " g2D)                                                            \n",
            "                                                                 \n",
            " conv2d_2 (Conv2D)           (None, 96, 96, 128)       73856     \n",
            "                                                                 \n",
            " max_pooling2d_2 (MaxPoolin  (None, 48, 48, 128)       0         \n",
            " g2D)                                                            \n",
            "                                                                 \n",
            " conv2d_3 (Conv2D)           (None, 46, 46, 256)       295168    \n",
            "                                                                 \n",
            " max_pooling2d_3 (MaxPoolin  (None, 23, 23, 256)       0         \n",
            " g2D)                                                            \n",
            "                                                                 \n",
            " conv2d_4 (Conv2D)           (None, 21, 21, 256)       590080    \n",
            "                                                                 \n",
            " flatten (Flatten)           (None, 112896)            0         \n",
            "                                                                 \n",
            " dense (Dense)               (None, 144)               16257168  \n",
            "                                                                 \n",
            "=================================================================\n",
            "Total params: 17235664 (65.75 MB)\n",
            "Trainable params: 17235664 (65.75 MB)\n",
            "Non-trainable params: 0 (0.00 Byte)\n",
            "_________________________________________________________________\n"
          ]
        }
      ]
    },
    {
      "cell_type": "code",
      "source": [
        "model.compile(\n",
        "    optimizer='rmsprop',\n",
        "    loss=\"sparse_categorical_crossentropy\",\n",
        "    metrics=['accuracy']\n",
        ")"
      ],
      "metadata": {
        "id": "Y8Eclywgdzz2"
      },
      "execution_count": null,
      "outputs": []
    },
    {
      "cell_type": "code",
      "source": [
        "import tensorflow as tf\n",
        "\n",
        "# Define ModelCheckpoint callback to save the best mode\n",
        "callbacks = [\n",
        "    keras.callbacks.ModelCheckpoint(\n",
        "    filepath=\"convnet_from_scratch.keras\",\n",
        "    save_best_only=True,\n",
        "    monitor=\"val_loss\")\n",
        "]\n",
        "\n",
        "# Train the model with the callbacks\n",
        "history = model.fit(\n",
        "    train_ds,\n",
        "    epochs=10,\n",
        "    validation_data=validation_ds,\n",
        "    callbacks=callbacks\n",
        ")"
      ],
      "metadata": {
        "id": "xZ3h6-nobUTU",
        "colab": {
          "base_uri": "https://localhost:8080/"
        },
        "outputId": "2c5d4284-431b-44d4-abc0-bc1e50cfca66"
      },
      "execution_count": null,
      "outputs": [
        {
          "output_type": "stream",
          "name": "stdout",
          "text": [
            "Epoch 1/10\n",
            "36/36 [==============================] - 9s 205ms/step - loss: 6.3289 - accuracy: 0.0061 - val_loss: 4.9792 - val_accuracy: 0.0069\n",
            "Epoch 2/10\n",
            "36/36 [==============================] - 7s 197ms/step - loss: 5.0593 - accuracy: 0.0148 - val_loss: 4.6044 - val_accuracy: 0.0625\n",
            "Epoch 3/10\n",
            "36/36 [==============================] - 8s 198ms/step - loss: 2.3179 - accuracy: 0.4887 - val_loss: 0.2948 - val_accuracy: 0.9167\n",
            "Epoch 4/10\n",
            "36/36 [==============================] - 8s 204ms/step - loss: 0.0277 - accuracy: 0.9913 - val_loss: 1.5391e-04 - val_accuracy: 1.0000\n",
            "Epoch 5/10\n",
            "36/36 [==============================] - 7s 197ms/step - loss: 6.0604e-05 - accuracy: 1.0000 - val_loss: 2.4945e-05 - val_accuracy: 1.0000\n",
            "Epoch 6/10\n",
            "36/36 [==============================] - 8s 202ms/step - loss: 1.1454e-05 - accuracy: 1.0000 - val_loss: 7.5631e-06 - val_accuracy: 1.0000\n",
            "Epoch 7/10\n",
            "36/36 [==============================] - 8s 215ms/step - loss: 4.2527e-06 - accuracy: 1.0000 - val_loss: 3.9107e-06 - val_accuracy: 1.0000\n",
            "Epoch 8/10\n",
            "36/36 [==============================] - 7s 190ms/step - loss: 2.4529e-06 - accuracy: 1.0000 - val_loss: 2.5531e-06 - val_accuracy: 1.0000\n",
            "Epoch 9/10\n",
            "36/36 [==============================] - 8s 201ms/step - loss: 1.7081e-06 - accuracy: 1.0000 - val_loss: 1.9131e-06 - val_accuracy: 1.0000\n",
            "Epoch 10/10\n",
            "36/36 [==============================] - 8s 205ms/step - loss: 1.3134e-06 - accuracy: 1.0000 - val_loss: 1.5249e-06 - val_accuracy: 1.0000\n"
          ]
        }
      ]
    },
    {
      "cell_type": "code",
      "source": [
        "import matplotlib.pyplot as plt\n",
        "\n",
        "# Plot training & validation loss values\n",
        "plt.plot(history.history['loss'])\n",
        "plt.plot(history.history['val_loss'])\n",
        "plt.title('Model loss')\n",
        "plt.ylabel('Loss')\n",
        "plt.xlabel('Epoch')\n",
        "plt.legend(['Train', 'Validation'], loc='upper left')\n",
        "plt.show()"
      ],
      "metadata": {
        "colab": {
          "base_uri": "https://localhost:8080/",
          "height": 267
        },
        "id": "GMGW5DPtK49I",
        "outputId": "2df2824a-6de2-4c3d-be6d-d6af212459ae"
      },
      "execution_count": null,
      "outputs": [
        {
          "output_type": "display_data",
          "data": {
            "text/plain": [
              "<Figure size 640x480 with 1 Axes>"
            ],
            "image/png": "[encoded data removed]"
          },
          "metadata": {}
        }
      ]
    },
    {
      "cell_type": "markdown",
      "source": [
        "# Making prediction"
      ],
      "metadata": {
        "id": "B34Ar2AALoQQ"
      }
    },
    {
      "cell_type": "code",
      "source": [
        "\n",
        "# make prediction\n",
        "import tensorflow as tf\n",
        "from tensorflow.keras.preprocessing import image\n",
        "\n",
        "def return_img_tensor(path):\n",
        "    img = image.load_img(path)\n",
        "    img_array = image.img_to_array(img)\n",
        "    img_tensor = tf.expand_dims(img_array, 0)\n",
        "    return img_tensor\n",
        "\n",
        "path = \"test/12_05/0.png\" # 12_05 is the image to predict\n",
        "img_tensor = return_img_tensor(path)\n",
        "print(img_tensor.shape)\n",
        "prediction = model.predict(img_tensor)"
      ],
      "metadata": {
        "colab": {
          "base_uri": "https://localhost:8080/"
        },
        "id": "uoNvRjSOLrNP",
        "outputId": "e5cf842e-1f57-417e-b3c0-c22908b3a485"
      },
      "execution_count": null,
      "outputs": [
        {
          "output_type": "stream",
          "name": "stdout",
          "text": [
            "(1, 400, 400, 3)\n",
            "1/1 [==============================] - 0s 85ms/step\n"
          ]
        }
      ]
    },
    {
      "cell_type": "code",
      "source": [
        "\n",
        "# display prediction\n",
        "import numpy as np\n",
        "import matplotlib.pyplot as plt\n",
        "import matplotlib.image as mpimg\n",
        "\n",
        "plt.imshow(mpimg.imread(path))\n",
        "plt.title(\"Actual Image\")\n",
        "print(\"Prediction:\", time_list[np.argmax(prediction)].replace('_',':'))"
      ],
      "metadata": {
        "colab": {
          "base_uri": "https://localhost:8080/",
          "height": 346
        },
        "id": "EBSsPnPTMxIw",
        "outputId": "ca0d7523-7527-4831-d533-7500437981cc"
      },
      "execution_count": null,
      "outputs": [
        {
          "output_type": "stream",
          "name": "stdout",
          "text": [
            "Prediction: 12:05\n"
          ]
        },
        {
          "output_type": "display_data",
          "data": {
            "text/plain": [
              "<Figure size 640x480 with 1 Axes>"
            ],
            "image/png": "[encoded data removed]"
          },
          "metadata": {}
        }
      ]
    }
  ]
}